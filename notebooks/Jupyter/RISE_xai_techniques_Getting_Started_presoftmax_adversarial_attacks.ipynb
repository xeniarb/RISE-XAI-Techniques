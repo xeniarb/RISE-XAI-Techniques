{
  "cells": [
    {
      "cell_type": "markdown",
      "source": [
        "RISE-xai-techniques-Getting_Started-presoftmax_adversarial_attacks_v1\n",
        "\n",
        "This notebook demonstrates adversarial attacks on gradient-based attribution methods\n",
        "(e.g., Grad-CAM) that use pre-softmax outputs. It builds on repositories:\n",
        "- https://github.com/mlerma54/adversarial-attacks-on-saliency-maps\n",
        "- https://github.com/lisadunlap/xai-techniques\n",
        "\n",
        "The goal is to show how to fool saliency maps produced by explainable AI techniques.\n"
      ],
      "metadata": {
        "id": "mU7stP_GYzYm"
      }
    },
    {
      "cell_type": "markdown",
      "source": [
        "Clone the adversarial attacks repository for code and data"
      ],
      "metadata": {
        "id": "tbckSDWPY4_9"
      }
    },
    {
      "cell_type": "code",
      "source": [
        "!git clone https://github.com/mlerma54/adversarial-attacks-on-saliency-maps.git"
      ],
      "metadata": {
        "id": "Msg5N7awNdOw"
      },
      "execution_count": null,
      "outputs": []
    },
    {
      "cell_type": "markdown",
      "source": [
        "Provide your system-specific paths below"
      ],
      "metadata": {
        "id": "aPTAK-b7cIQC"
      }
    },
    {
      "cell_type": "code",
      "execution_count": null,
      "metadata": {
        "id": "7vCuoMuW2i2h"
      },
      "outputs": [],
      "source": [
        "root = '/content/adversarial-attacks-on-saliency-maps/'\n",
        "images_dir = root + 'images/'\n"
      ]
    },
    {
      "cell_type": "markdown",
      "source": [
        "Verify the repository and image directories exist"
      ],
      "metadata": {
        "id": "cWFaplNzZKAd"
      }
    },
    {
      "cell_type": "code",
      "execution_count": null,
      "metadata": {
        "id": "oC30jog42i6S"
      },
      "outputs": [],
      "source": [
        "import os\n",
        "\n",
        "for d in [root, images_dir]:\n",
        "  print(d)\n",
        "  assert(os.path.isdir(d))"
      ]
    },
    {
      "cell_type": "markdown",
      "source": [
        "Set the original image and model to use"
      ],
      "metadata": {
        "id": "XdsqUGhDZO9d"
      }
    },
    {
      "cell_type": "code",
      "source": [
        "orig_image = images_dir + 'dog-and-cat.jpg'\n",
        "orig_image"
      ],
      "metadata": {
        "id": "Ql7dScbsZqvk"
      },
      "execution_count": null,
      "outputs": []
    },
    {
      "cell_type": "code",
      "source": [
        "orig_model = 'vgg19'  # Alternative: 'resnet18'"
      ],
      "metadata": {
        "id": "XPAf38vYlfih"
      },
      "execution_count": null,
      "outputs": []
    },
    {
      "cell_type": "markdown",
      "source": [
        "Clone repository containing various XAI techniques implementations"
      ],
      "metadata": {
        "id": "twDlPY0IZY8t"
      }
    },
    {
      "cell_type": "code",
      "execution_count": null,
      "metadata": {
        "id": "UEtgE650KId4"
      },
      "outputs": [],
      "source": [
        "!git clone https://github.com/lisadunlap/xai-techniques.git"
      ]
    },
    {
      "cell_type": "code",
      "execution_count": null,
      "metadata": {
        "id": "eAAYWn93J69e"
      },
      "outputs": [],
      "source": [
        "%cd /content/xai-techniques"
      ]
    },
    {
      "cell_type": "markdown",
      "source": [
        "Install the techniques package"
      ],
      "metadata": {
        "id": "ANMfCpHuZiFl"
      }
    },
    {
      "cell_type": "code",
      "execution_count": null,
      "metadata": {
        "id": "iS0MMGSCKYhA"
      },
      "outputs": [],
      "source": [
        "!pip install -e ."
      ]
    },
    {
      "cell_type": "code",
      "execution_count": null,
      "metadata": {
        "id": "PKtJavIgLO5D"
      },
      "outputs": [],
      "source": [
        "%pwd"
      ]
    },
    {
      "cell_type": "code",
      "source": [
        "%cd techniques"
      ],
      "metadata": {
        "id": "V2O03IKtmozR"
      },
      "execution_count": null,
      "outputs": []
    },
    {
      "cell_type": "markdown",
      "source": [
        "Import required libraries for image processing, model manipulation, and visualization"
      ],
      "metadata": {
        "id": "fwTswU0hZlcW"
      }
    },
    {
      "cell_type": "code",
      "execution_count": null,
      "metadata": {
        "id": "3SK1fDLHJxtc"
      },
      "outputs": [],
      "source": [
        "import numpy as np\n",
        "import matplotlib.pyplot as plt\n",
        "import cv2\n",
        "import os\n",
        "import torch\n",
        "from torchvision import models, datasets\n",
        "from torch.autograd import Variable\n",
        "\n",
        "from techniques.utils import get_displ_img"
      ]
    },
    {
      "cell_type": "markdown",
      "source": [
        "Note: If using Python 3.10+, a modification in 'gcam.py' might be required\n",
        "Reference: https://github.com/skorch-dev/skorch/issues/895\n"
      ],
      "metadata": {
        "id": "V70mPwu9Zwld"
      }
    },
    {
      "cell_type": "markdown",
      "metadata": {
        "id": "404fYXsPMRKq"
      },
      "source": [
        "Modifications to do on the files:\n",
        "\n",
        "[https://github.com/skorch-dev/skorch/issues/895](https://github.com/skorch-dev/skorch/issues/895)\n",
        "```\n",
        "python3.10 -c \"from collections.abc import Sequence\"\n",
        "```\n",
        "/content/xai-techniques/techniques/Grad_CAM/gcam.py\n",
        "```\n",
        "# !/usr/bin/env python\n",
        "# coding: utf-8\n",
        "#\n",
        "# Author:   Kazuto Nakashima\n",
        "# URL:      http://kazuto1011.github.io\n",
        "# Created:  2017-05-26\n",
        "\n",
        "from collections import OrderedDict\n",
        "from collections.abc import Sequence\n",
        "\n",
        "```\n",
        "\n",
        "\n",
        "\n",
        "\n"
      ]
    },
    {
      "cell_type": "markdown",
      "source": [
        "Install additional dependencies needed for explanation methods"
      ],
      "metadata": {
        "id": "a8pocOG-Z6dN"
      }
    },
    {
      "cell_type": "code",
      "execution_count": null,
      "metadata": {
        "id": "6Y75zLP0Makv"
      },
      "outputs": [],
      "source": [
        "!pip install lime"
      ]
    },
    {
      "cell_type": "markdown",
      "source": [
        "Import functions to generate different explanation heatmaps"
      ],
      "metadata": {
        "id": "0TdpQPJLZ_ll"
      }
    },
    {
      "cell_type": "code",
      "execution_count": null,
      "metadata": {
        "id": "dzTWH4mrJxtk"
      },
      "outputs": [],
      "source": [
        "from techniques.generate_grounding import gen_grounding, gen_all_groundings\n",
        "save_path='../cat_dog/'"
      ]
    },
    {
      "cell_type": "markdown",
      "source": [
        "Set image dimensions for model input"
      ],
      "metadata": {
        "id": "_ctKObF6aDpF"
      }
    },
    {
      "cell_type": "code",
      "source": [
        "width = height = 224"
      ],
      "metadata": {
        "id": "f-msG_kHdKzj"
      },
      "execution_count": null,
      "outputs": []
    },
    {
      "cell_type": "markdown",
      "metadata": {
        "id": "CxhaUaSqJxtn"
      },
      "source": [
        "## Sample Image"
      ]
    },
    {
      "cell_type": "markdown",
      "source": [
        "Load and preprocess the sample image\n",
        "TODO: Fix color channel issues if any arise in display"
      ],
      "metadata": {
        "id": "qc1mIoubaIv9"
      }
    },
    {
      "cell_type": "code",
      "execution_count": null,
      "metadata": {
        "id": "nEkBPYcnJxtq"
      },
      "outputs": [],
      "source": [
        "\n",
        "displ_img = cv2.cvtColor(cv2.imread(orig_image), cv2.COLOR_BGR2RGB)\n",
        "resized_image = cv2.resize(displ_img, (width, height))\n",
        "plt.axis('off')\n",
        "plt.imshow(resized_image)"
      ]
    },
    {
      "cell_type": "markdown",
      "metadata": {
        "id": "MoBuDBZ6Jxtt"
      },
      "source": [
        "## === Generate Mask/Heatmap Explanation Methods ==="
      ]
    },
    {
      "cell_type": "markdown",
      "metadata": {
        "id": "wopBDoRoJxtt"
      },
      "source": [
        "### Grad-CAM explanations for dog class indices, both explicit and indexed targets"
      ]
    },
    {
      "cell_type": "code",
      "execution_count": null,
      "metadata": {
        "id": "V5YlhHc7Jxtv"
      },
      "outputs": [],
      "source": [
        "#generate image wrt a specific class index\n",
        "gcam_expl_dog = gen_grounding(resized_image,\n",
        "                              'gcam',\n",
        "                              orig_model,\n",
        "                              target_index=1,\n",
        "                              show=True,\n",
        "                              save=True,\n",
        "                              save_path=save_path+'dog',\n",
        "                              device=0,\n",
        "                              index=False)"
      ]
    },
    {
      "cell_type": "code",
      "execution_count": null,
      "metadata": {
        "id": "cyuyfBKHJxtx"
      },
      "outputs": [],
      "source": [
        "#generate image wrt a specific class index\n",
        "gcam_expl_dog = gen_grounding(resized_image,\n",
        "                              'gcam',\n",
        "                              orig_model,\n",
        "                              target_index=242,\n",
        "                              show=True,\n",
        "                              save=True,\n",
        "                              save_path=save_path+'dog',\n",
        "                              device=0,\n",
        "                              index=True)"
      ]
    },
    {
      "cell_type": "markdown",
      "source": [
        "Grad-CAM explanation for cat class"
      ],
      "metadata": {
        "id": "-uoCEZdZadvV"
      }
    },
    {
      "cell_type": "code",
      "execution_count": null,
      "metadata": {
        "id": "81GfEbApJxtz"
      },
      "outputs": [],
      "source": [
        "#generate image wrt a specific class index\n",
        "gcam_expl_cat = gen_grounding(resized_image,\n",
        "                              'gcam',\n",
        "                              orig_model,\n",
        "                              target_index=282,\n",
        "                              show=True,\n",
        "                              save=True,\n",
        "                              save_path=save_path+'cat',\n",
        "                              device=0,\n",
        "                              index=True)"
      ]
    },
    {
      "cell_type": "markdown",
      "metadata": {
        "id": "_Ag754KKJxt1"
      },
      "source": [
        "### LIME explanation for dog and cat classes"
      ]
    },
    {
      "cell_type": "code",
      "execution_count": null,
      "metadata": {
        "id": "swbZvryQJxt3"
      },
      "outputs": [],
      "source": [
        "lime_expl= gen_grounding(resized_image,\n",
        "                         'lime',\n",
        "                         orig_model,\n",
        "                         target_index=1,\n",
        "                         show=True,\n",
        "                         save=True,\n",
        "                         save_path=save_path+'dog',\n",
        "                         device=0)"
      ]
    },
    {
      "cell_type": "code",
      "execution_count": null,
      "metadata": {
        "id": "KlZvDuGgJxt4"
      },
      "outputs": [],
      "source": [
        "lime_expl_cat= gen_grounding(resized_image,\n",
        "                             'lime',\n",
        "                             orig_model,\n",
        "                             target_index=282,\n",
        "                             show=True,\n",
        "                             save=True,\n",
        "                             save_path=save_path+'cat',\n",
        "                             device=0,\n",
        "                             index=True)"
      ]
    },
    {
      "cell_type": "markdown",
      "metadata": {
        "id": "It88QtKtJxt5"
      },
      "source": [
        "### RISE explanation for dog and cat classes"
      ]
    },
    {
      "cell_type": "code",
      "execution_count": null,
      "metadata": {
        "id": "kNTztqx5Jxt5"
      },
      "outputs": [],
      "source": [
        "rise_expl = gen_grounding(resized_image,\n",
        "                          'rise',\n",
        "                          orig_model,\n",
        "                          target_index=1,\n",
        "                          show=True,\n",
        "                          save=True,\n",
        "                          save_path=save_path+'dog',\n",
        "                          device=0)"
      ]
    },
    {
      "cell_type": "markdown",
      "source": [
        "TODO: fix indexing for cat class in RISE explanations"
      ],
      "metadata": {
        "id": "GgN3Nrevasxt"
      }
    },
    {
      "cell_type": "code",
      "execution_count": null,
      "metadata": {
        "id": "IGqf9fINJxt6"
      },
      "outputs": [],
      "source": [
        "\n",
        "rise_expl_cat = gen_grounding(resized_image,\n",
        "                              'rise',\n",
        "                              orig_model,\n",
        "                              target_index=2,\n",
        "                              show=True,\n",
        "                              save=True,\n",
        "                              save_path=save_path+'cat',\n",
        "                              device=0)"
      ]
    },
    {
      "cell_type": "markdown",
      "metadata": {
        "id": "_6gpWT5tJxt6"
      },
      "source": [
        "# === Generate Saliency Map Explanation Methods ==="
      ]
    },
    {
      "cell_type": "markdown",
      "metadata": {
        "id": "giKGWFaDJxt7"
      },
      "source": [
        "### Integrated Gradients explanations for dog and cat classes"
      ]
    },
    {
      "cell_type": "code",
      "execution_count": null,
      "metadata": {
        "id": "noCBZxzPJxt7"
      },
      "outputs": [],
      "source": [
        "from techniques.generate_grounding import gen_grounding, gen_all_groundings\n",
        "ig_expl_dog = gen_grounding(resized_image,\n",
        "                       'ig',\n",
        "                       orig_model,\n",
        "                       show=True,\n",
        "                       save=True,\n",
        "                       target_index=242,\n",
        "                       save_path=save_path+'dog',\n",
        "                       device=0,\n",
        "                       index=True)"
      ]
    },
    {
      "cell_type": "code",
      "execution_count": null,
      "metadata": {
        "id": "dJbl66KTJxt8"
      },
      "outputs": [],
      "source": [
        "ig_expl_dog = gen_grounding(resized_image,\n",
        "                       'ig',\n",
        "                       orig_model,\n",
        "                       show=True,\n",
        "                       save=True,\n",
        "                       target_index=282,\n",
        "                       save_path=save_path+'cat',\n",
        "                       device=0,\n",
        "                       index=True)"
      ]
    },
    {
      "cell_type": "markdown",
      "metadata": {
        "id": "q_vts_2ZJxt8"
      },
      "source": [
        "### Vanilla Backpropagation explanations"
      ]
    },
    {
      "cell_type": "code",
      "execution_count": null,
      "metadata": {
        "id": "e4uHzmcLJxt8"
      },
      "outputs": [],
      "source": [
        "#generate image wrt a specific class index\n",
        "bp_expl_dog = gen_grounding(resized_image,\n",
        "                            'bp',\n",
        "                            orig_model,\n",
        "                            target_index=242,\n",
        "                            show=True,\n",
        "                            save=True,\n",
        "                            save_path=save_path+'dog',\n",
        "                            device=0,\n",
        "                            index=True)"
      ]
    },
    {
      "cell_type": "code",
      "execution_count": null,
      "metadata": {
        "id": "75b1nao5Jxt8"
      },
      "outputs": [],
      "source": [
        "#generate image wrt a specific class index\n",
        "bp_expl_dog = gen_grounding(resized_image,\n",
        "                            'bp',\n",
        "                            orig_model,\n",
        "                            target_index=282,\n",
        "                            show=True,\n",
        "                            save=True,\n",
        "                            save_path=save_path+'cat',\n",
        "                            device=0,\n",
        "                            index=True)"
      ]
    },
    {
      "cell_type": "markdown",
      "metadata": {
        "id": "khO0ip31Jxt-"
      },
      "source": [
        "### Guided Backpropagation explanations"
      ]
    },
    {
      "cell_type": "code",
      "execution_count": null,
      "metadata": {
        "id": "XHoIEK0cJxt-"
      },
      "outputs": [],
      "source": [
        "#generate image wrt a specific class index\n",
        "gbp_expl_dog = gen_grounding(resized_image,\n",
        "                            'gbp',\n",
        "                            orig_model,\n",
        "                            target_index=242,\n",
        "                            show=True,\n",
        "                            save=True,\n",
        "                            save_path=save_path+'dog',\n",
        "                            device=0,\n",
        "                            index=True)"
      ]
    },
    {
      "cell_type": "code",
      "execution_count": null,
      "metadata": {
        "id": "SJKDUc35Jxt_"
      },
      "outputs": [],
      "source": [
        "#generate image wrt a specific class index\n",
        "gbp_expl_cat = gen_grounding(resized_image,\n",
        "                            'gbp',\n",
        "                            orig_model,\n",
        "                            target_index=282,\n",
        "                            show=True,\n",
        "                            save=True,\n",
        "                            save_path=save_path+'cat',\n",
        "                            device=0,\n",
        "                            index=True)"
      ]
    },
    {
      "cell_type": "markdown",
      "metadata": {
        "id": "AfzHMk8sJxt_"
      },
      "source": [
        "### Deconvolution explanations"
      ]
    },
    {
      "cell_type": "code",
      "execution_count": null,
      "metadata": {
        "id": "n3zyCGWwJxuA"
      },
      "outputs": [],
      "source": [
        "#generate image wrt a specific class index\n",
        "deconv_expl_dog = gen_grounding(resized_image,\n",
        "                            'deconv',\n",
        "                            orig_model,\n",
        "                            target_index=242,\n",
        "                            show=True,\n",
        "                            save=True,\n",
        "                            save_path=save_path+'dog',\n",
        "                            device=0,\n",
        "                            index=True)"
      ]
    },
    {
      "cell_type": "code",
      "execution_count": null,
      "metadata": {
        "id": "1LDdS_OOJxuA"
      },
      "outputs": [],
      "source": [
        "#generate image wrt a specific class index\n",
        "deconv_expl_cat = gen_grounding(resized_image,\n",
        "                            'deconv',\n",
        "                            orig_model,\n",
        "                            target_index=282,\n",
        "                            show=True,\n",
        "                            save=True,\n",
        "                            save_path=save_path+'cat',\n",
        "                            device=0,\n",
        "                            index=True)"
      ]
    },
    {
      "cell_type": "markdown",
      "metadata": {
        "id": "Eu57uAsoJxuB"
      },
      "source": [
        "## === Generate All Explanation Methods at Once ==="
      ]
    },
    {
      "cell_type": "code",
      "execution_count": null,
      "metadata": {
        "id": "NsBxuDNxJxuB"
      },
      "outputs": [],
      "source": [
        "#generate image wrt a specific class index\n",
        "all_expl_dog = gen_all_groundings(resized_image,\n",
        "                              orig_model,\n",
        "                              target_index=1,\n",
        "                              show=True,\n",
        "                              save=True,\n",
        "                              save_path='./cat_dog',\n",
        "                              device=0,\n",
        "                              index=False)"
      ]
    },
    {
      "cell_type": "code",
      "execution_count": null,
      "metadata": {
        "id": "xHF8BdH9JxuB"
      },
      "outputs": [],
      "source": []
    }
  ],
  "metadata": {
    "accelerator": "GPU",
    "colab": {
      "gpuType": "T4",
      "provenance": []
    },
    "kernelspec": {
      "display_name": "Python 3",
      "name": "python3"
    },
    "language_info": {
      "codemirror_mode": {
        "name": "ipython",
        "version": 3
      },
      "file_extension": ".py",
      "mimetype": "text/x-python",
      "name": "python",
      "nbconvert_exporter": "python",
      "pygments_lexer": "ipython3",
      "version": "3.6.10"
    },
    "pycharm": {
      "stem_cell": {
        "cell_type": "raw",
        "metadata": {
          "collapsed": false
        },
        "source": []
      }
    }
  },
  "nbformat": 4,
  "nbformat_minor": 0
}